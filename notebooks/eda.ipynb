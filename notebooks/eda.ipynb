{
 "cells": [
  {
   "cell_type": "code",
   "execution_count": null,
   "id": "e0b55da3",
   "metadata": {},
   "outputs": [],
   "source": [
    "import pandas as pd\n",
    "chunk_iter = pd.read_csv('../data/raw/complaints.csv', chunksize=10000)\n",
    "first_chunk = next(chunk_iter)"
   ]
  },
  {
   "cell_type": "code",
   "execution_count": 5,
   "id": "ff5691cd",
   "metadata": {},
   "outputs": [
    {
     "name": "stdout",
     "output_type": "stream",
     "text": [
      "  Date received                                            Product  \\\n",
      "0    2025-06-20  Credit reporting or other personal consumer re...   \n",
      "1    2025-06-20                                    Debt collection   \n",
      "2    2025-06-20  Credit reporting or other personal consumer re...   \n",
      "3    2025-06-20  Credit reporting or other personal consumer re...   \n",
      "4    2025-06-20  Credit reporting or other personal consumer re...   \n",
      "\n",
      "               Sub-product                                 Issue  \\\n",
      "0         Credit reporting  Incorrect information on your report   \n",
      "1  Telecommunications debt     Attempts to collect debt not owed   \n",
      "2         Credit reporting           Improper use of your report   \n",
      "3         Credit reporting           Improper use of your report   \n",
      "4         Credit reporting  Incorrect information on your report   \n",
      "\n",
      "                                       Sub-issue Consumer complaint narrative  \\\n",
      "0            Information belongs to someone else                          NaN   \n",
      "1                              Debt is not yours                          NaN   \n",
      "2  Reporting company used your report improperly                          NaN   \n",
      "3  Reporting company used your report improperly                          NaN   \n",
      "4                       Account status incorrect                          NaN   \n",
      "\n",
      "                             Company public response  \\\n",
      "0                                                NaN   \n",
      "1  Company can't verify or dispute the facts in t...   \n",
      "2                                                NaN   \n",
      "3                                                NaN   \n",
      "4                                                NaN   \n",
      "\n",
      "                                        Company State ZIP code Tags  \\\n",
      "0           Experian Information Solutions Inc.    FL    32092  NaN   \n",
      "1  Eastern Account Systems of Connecticut, Inc.    FL    342XX  NaN   \n",
      "2        TRANSUNION INTERMEDIATE HOLDINGS, INC.    AZ    85225  NaN   \n",
      "3           Experian Information Solutions Inc.    AZ    85225  NaN   \n",
      "4           Experian Information Solutions Inc.    IL    60628  NaN   \n",
      "\n",
      "  Consumer consent provided? Submitted via Date sent to company  \\\n",
      "0                        NaN           Web           2025-06-20   \n",
      "1                        NaN           Web           2025-06-20   \n",
      "2                        NaN           Web           2025-06-20   \n",
      "3                        NaN           Web           2025-06-20   \n",
      "4                        NaN           Web           2025-06-20   \n",
      "\n",
      "  Company response to consumer Timely response?  Consumer disputed?  \\\n",
      "0                  In progress              Yes                 NaN   \n",
      "1      Closed with explanation              Yes                 NaN   \n",
      "2                  In progress              Yes                 NaN   \n",
      "3                  In progress              Yes                 NaN   \n",
      "4                  In progress              Yes                 NaN   \n",
      "\n",
      "   Complaint ID  \n",
      "0      14195687  \n",
      "1      14195688  \n",
      "2      14195689  \n",
      "3      14195690  \n",
      "4      14195692  \n",
      "(10000, 18)\n",
      "Index(['Date received', 'Product', 'Sub-product', 'Issue', 'Sub-issue',\n",
      "       'Consumer complaint narrative', 'Company public response', 'Company',\n",
      "       'State', 'ZIP code', 'Tags', 'Consumer consent provided?',\n",
      "       'Submitted via', 'Date sent to company', 'Company response to consumer',\n",
      "       'Timely response?', 'Consumer disputed?', 'Complaint ID'],\n",
      "      dtype='object')\n"
     ]
    }
   ],
   "source": [
    "print(first_chunk.head())  \n",
    "print(first_chunk.shape)   \n",
    "print(first_chunk.columns)"
   ]
  },
  {
   "cell_type": "code",
   "execution_count": 7,
   "id": "00d0a37e",
   "metadata": {},
   "outputs": [
    {
     "name": "stdout",
     "output_type": "stream",
     "text": [
      "Product\n",
      "Credit reporting or other personal consumer reports        9608\n",
      "Debt collection                                             290\n",
      "Credit card                                                  42\n",
      "Checking or savings account                                  20\n",
      "Money transfer, virtual currency, or money service           20\n",
      "Payday loan, title loan, personal loan, or advance loan       7\n",
      "Vehicle loan or lease                                         6\n",
      "Mortgage                                                      3\n",
      "Debt or credit management                                     2\n",
      "Prepaid card                                                  1\n",
      "Student loan                                                  1\n",
      "Name: count, dtype: int64\n"
     ]
    }
   ],
   "source": [
    "product_counts = first_chunk['Product'].value_counts()\n",
    "print(product_counts)\n"
   ]
  },
  {
   "cell_type": "code",
   "execution_count": null,
   "id": "198ebf2c",
   "metadata": {},
   "outputs": [
    {
     "name": "stdout",
     "output_type": "stream",
     "text": [
      "count      2.000000\n",
      "mean     382.000000\n",
      "std       91.923882\n",
      "min      317.000000\n",
      "25%      349.500000\n",
      "50%      382.000000\n",
      "75%      414.500000\n",
      "max      447.000000\n",
      "Name: word_count, dtype: float64\n"
     ]
    }
   ],
   "source": [
    "first_chunk['word_count'] = first_chunk['Consumer complaint narrative'].str.split().str.len()\n",
    "print(first_chunk['word_count'].describe())"
   ]
  },
  {
   "cell_type": "code",
   "execution_count": 9,
   "id": "2f050804",
   "metadata": {},
   "outputs": [
    {
     "name": "stdout",
     "output_type": "stream",
     "text": [
      "9998\n"
     ]
    }
   ],
   "source": [
    "print(first_chunk['Consumer complaint narrative'].isna().sum()) "
   ]
  },
  {
   "cell_type": "code",
   "execution_count": 28,
   "id": "b2e6463c",
   "metadata": {},
   "outputs": [
    {
     "data": {
      "image/png": "[encoded data removed]",
      "text/plain": [
       "<Figure size 1200x600 with 1 Axes>"
      ]
     },
     "metadata": {},
     "output_type": "display_data"
    },
    {
     "name": "stdout",
     "output_type": "stream",
     "text": [
      "BEFORE Filtering - Top Products:\n",
      "Product\n",
      "Credit reporting or other personal consumer reports    9608\n",
      "Debt collection                                         290\n",
      "Credit card                                              42\n",
      "Checking or savings account                              20\n",
      "Money transfer, virtual currency, or money service       20\n",
      "Name: count, dtype: int64\n"
     ]
    }
   ],
   "source": [
    "import pandas as pd\n",
    "import matplotlib.pyplot as plt\n",
    "\n",
    "# Load original data\n",
    "chunk = pd.read_csv('../data/raw/complaints.csv', nrows=10000)  # Adjust nrows as needed\n",
    "\n",
    "# Plot product distribution BEFORE filtering\n",
    "plt.figure(figsize=(12, 6))\n",
    "original_counts = chunk['Product'].value_counts()\n",
    "original_counts.plot(kind='bar', color='skyblue', edgecolor='black')\n",
    "plt.title('BEFORE Filtering: Complaints by Product')\n",
    "plt.xticks(rotation=45, ha='right')\n",
    "plt.tight_layout()\n",
    "plt.savefig('../output/before_filtering.png', bbox_inches='tight', dpi=300)\n",
    "plt.show()\n",
    "\n",
    "print(\"BEFORE Filtering - Top Products:\")\n",
    "print(original_counts.head())"
   ]
  },
  {
   "cell_type": "code",
   "execution_count": 36,
   "id": "0b75e0c9",
   "metadata": {},
   "outputs": [
    {
     "name": "stdout",
     "output_type": "stream",
     "text": [
      "Rows after filtering: 8\n"
     ]
    }
   ],
   "source": [
    "# Adjust these to match your data's EXACT product names:\n",
    "products_to_keep = [\n",
    "    \"Credit card\",  # Must match EXACTLY (case and spelling)\n",
    "    \"Checking or savings account\", \n",
    "    \"Money transfer, virtual currency, or money service\"  # Full name!\n",
    "]\n",
    "\n",
    "# Re-run filtering\n",
    "filtered_data = chunk[chunk['Product'].isin(products_to_keep)].copy()\n",
    "print(f\"Rows after filtering: {len(filtered_data)}\")  # Should NOT be zero!"
   ]
  },
  {
   "cell_type": "code",
   "execution_count": 39,
   "id": "c6665df8",
   "metadata": {},
   "outputs": [
    {
     "name": "stdout",
     "output_type": "stream",
     "text": [
      "Rows after filtering: 82\n"
     ]
    }
   ],
   "source": [
    "import pandas as pd\n",
    "\n",
    "# Load data (use chunks if needed)\n",
    "chunk = pd.read_csv('../data/raw/complaints.csv', nrows=10000)\n",
    "\n",
    "# Keep ONLY viable products\n",
    "products_to_keep = [\n",
    "    \"Credit card\",\n",
    "    \"Checking or savings account\",\n",
    "    \"Money transfer, virtual currency, or money service\"\n",
    "]\n",
    "\n",
    "filtered_data = chunk[chunk['Product'].isin(products_to_keep)].copy()\n",
    "print(f\"Rows after filtering: {len(filtered_data)}\")  # Should be ~82 rows"
   ]
  },
  {
   "cell_type": "code",
   "execution_count": 40,
   "id": "3ae6bc38",
   "metadata": {},
   "outputs": [
    {
     "name": "stdout",
     "output_type": "stream",
     "text": [
      "Rows after adding loan-related complaints: 88\n"
     ]
    }
   ],
   "source": [
    "loan_keywords = \"loan|BNPL|borrow|advance\"\n",
    "loan_mask = chunk['Issue'].str.contains(loan_keywords, case=False, na=False)\n",
    "loan_complaints = chunk[loan_mask].copy()\n",
    "\n",
    "# Combine with filtered_data\n",
    "filtered_data = pd.concat([filtered_data, loan_complaints]).drop_duplicates()\n",
    "print(f\"Rows after adding loan-related complaints: {len(filtered_data)}\")"
   ]
  },
  {
   "cell_type": "code",
   "execution_count": 41,
   "id": "074e4abc",
   "metadata": {},
   "outputs": [
    {
     "name": "stdout",
     "output_type": "stream",
     "text": [
      "Product\n",
      "Credit card                                                42\n",
      "Checking or savings account                                20\n",
      "Money transfer, virtual currency, or money service         20\n",
      "Vehicle loan or lease                                       3\n",
      "Payday loan, title loan, personal loan, or advance loan     3\n",
      "Name: count, dtype: int64\n",
      "Empty narratives: 88\n"
     ]
    }
   ],
   "source": [
    "# Verify counts\n",
    "print(filtered_data['Product'].value_counts())\n",
    "\n",
    "# Check narrative emptiness\n",
    "print(\"Empty narratives:\", filtered_data['Consumer complaint narrative'].isna().sum())\n",
    "\n",
    "# Save (even if small)\n",
    "filtered_data.to_csv('../data/filtered_complaints.csv', index=False)"
   ]
  },
  {
   "cell_type": "code",
   "execution_count": 42,
   "id": "5736ed67",
   "metadata": {},
   "outputs": [
    {
     "name": "stdout",
     "output_type": "stream",
     "text": [
      "                       Product  \\\n",
      "0                  Credit card   \n",
      "1  Checking or savings account   \n",
      "2  Checking or savings account   \n",
      "\n",
      "                                          clean_text  \n",
      "0  problem with a companys investigation into an ...  \n",
      "1                                managing an account  \n",
      "2                                 closing an account  \n"
     ]
    }
   ],
   "source": [
    "import pandas as pd\n",
    "\n",
    "# Load filtered data (or recreate the filter)\n",
    "filtered_data = pd.read_csv('../data/filtered_complaints.csv')\n",
    "\n",
    "# Use 'Issue' as primary text\n",
    "filtered_data['clean_text'] = filtered_data['Issue'].str.lower().str.replace(r'[^\\w\\s]', '', regex=True)\n",
    "\n",
    "# Verify\n",
    "print(filtered_data[['Product', 'clean_text']].head(3))"
   ]
  },
  {
   "cell_type": "code",
   "execution_count": 43,
   "id": "e97f2fbf",
   "metadata": {},
   "outputs": [
    {
     "name": "stdout",
     "output_type": "stream",
     "text": [
      "Available Complaints:\n",
      "Credit card: problem with a companys investigation into an existing issue\n",
      "Checking or savings account: managing an account\n",
      "Checking or savings account: closing an account\n"
     ]
    }
   ],
   "source": [
    "import pandas as pd\n",
    "\n",
    "# Load your filtered data\n",
    "df = pd.DataFrame({\n",
    "    'Product': ['Credit card', 'Checking or savings account', 'Checking or savings account'],\n",
    "    'clean_text': [\n",
    "        \"problem with a companys investigation into an existing issue\",\n",
    "        \"managing an account\", \n",
    "        \"closing an account\"\n",
    "    ]\n",
    "})\n",
    "\n",
    "# Show insights\n",
    "print(\"Available Complaints:\")\n",
    "for idx, row in df.iterrows():\n",
    "    print(f\"{row['Product']}: {row['clean_text']}\")"
   ]
  },
  {
   "cell_type": "code",
   "execution_count": 44,
   "id": "cddec4fb",
   "metadata": {},
   "outputs": [],
   "source": [
    "# Example: Add synthetic but plausible complaints\n",
    "new_rows = [\n",
    "    {'Product': 'Credit card', 'clean_text': 'unauthorized charge on my card'},\n",
    "    {'Product': 'Money transfer', 'clean_text': 'international transfer failed'},\n",
    "    # Add 10-20 more rows matching your product categories\n",
    "]\n",
    "df = pd.concat([df, pd.DataFrame(new_rows)], ignore_index=True)"
   ]
  },
  {
   "cell_type": "code",
   "execution_count": 45,
   "id": "88034641",
   "metadata": {},
   "outputs": [
    {
     "name": "stderr",
     "output_type": "stream",
     "text": [
      "C:\\Users\\Simbo\\AppData\\Local\\Temp\\ipykernel_72120\\148979511.py:1: DtypeWarning: Columns (16) have mixed types. Specify dtype option on import or set low_memory=False.\n",
      "  full_data = pd.read_csv('../data/raw/complaints.csv')\n"
     ]
    },
    {
     "name": "stdout",
     "output_type": "stream",
     "text": [
      "Usable rows: 9609791\n"
     ]
    }
   ],
   "source": [
    "full_data = pd.read_csv('../data/raw/complaints.csv')\n",
    "usable_data = full_data[['Product', 'Issue']].dropna()\n",
    "print(f\"Usable rows: {len(usable_data)}\")"
   ]
  },
  {
   "cell_type": "code",
   "execution_count": null,
   "id": "063d0318",
   "metadata": {},
   "outputs": [
    {
     "name": "stdout",
     "output_type": "stream",
     "text": [
      "Total usable rows: 9609791\n",
      "\n",
      "Top Products:\n",
      "Product\n",
      "Credit reporting or other personal consumer reports                             4834854\n",
      "Credit reporting, credit repair services, or other personal consumer reports    2163857\n",
      "Debt collection                                                                  799197\n",
      "Mortgage                                                                         422254\n",
      "Checking or savings account                                                      291173\n",
      "Credit card                                                                      226686\n",
      "Credit card or prepaid card                                                      206369\n",
      "Money transfer, virtual currency, or money service                               145066\n",
      "Credit reporting                                                                 140429\n",
      "Student loan                                                                     109717\n",
      "Name: count, dtype: int64\n",
      "==================================================\n",
      "Filtered rows for key products: 662925\n",
      "Total rows after adding loan-related complaints: 825338\n",
      "==================================================\n",
      "Final Product Distribution:\n",
      "Product\n",
      "Checking or savings account                                291173\n",
      "Credit card                                                226686\n",
      "Money transfer, virtual currency, or money service         145066\n",
      "Student loan                                               109717\n",
      "Payday loan, title loan, or personal loan                   30641\n",
      "Payday loan, title loan, personal loan, or advance loan     16514\n",
      "Payday loan                                                  5541\n",
      "Name: count, dtype: int64\n"
     ]
    }
   ],
   "source": [
    "import pandas as pd\n",
    "\n",
    "# Load raw data (if not already loaded)\n",
    "full_data = pd.read_csv('../data/raw/complaints.csv')\n",
    "usable_data = full_data[['Product', 'Issue']].dropna()\n",
    "\n",
    "# Print initial stats\n",
    "print(f\"Total usable rows: {len(usable_data)}\")\n",
    "print(\"\\nTop Products:\")\n",
    "print(usable_data['Product'].value_counts().head(10))\n",
    "\n",
    "print(\"=\"*50)  # Visual separator\n",
    "\n",
    "# Filter for key products\n",
    "key_products = [\n",
    "    \"Credit card\", \n",
    "    \"Checking or savings account\",\n",
    "    \"Money transfer, virtual currency, or money service\"\n",
    "]\n",
    "filtered_data = usable_data[usable_data['Product'].isin(key_products)].copy()\n",
    "print(f\"Filtered rows for key products: {len(filtered_data)}\")\n",
    "\n",
    "# Add loan-related complaints using keyword search\n",
    "loan_keywords = [\"Payday loan\", \"Personal loan\", \"Student loan\"]\n",
    "loan_mask = usable_data['Product'].str.contains('|'.join(loan_keywords), case=False)\n",
    "loan_complaints = usable_data[loan_mask]\n",
    "\n",
    "filtered_data = pd.concat([filtered_data, loan_complaints]).drop_duplicates()\n",
    "print(f\"Total rows after adding loan-related complaints: {len(filtered_data)}\")\n",
    "\n",
    "print(\"=\"*50)\n",
    "print(\"Final Product Distribution:\")\n",
    "print(filtered_data['Product'].value_counts())"
   ]
  }
 ],
 "metadata": {
  "kernelspec": {
   "display_name": ".venv",
   "language": "python",
   "name": "python3"
  },
  "language_info": {
   "codemirror_mode": {
    "name": "ipython",
    "version": 3
   },
   "file_extension": ".py",
   "mimetype": "text/x-python",
   "name": "python",
   "nbconvert_exporter": "python",
   "pygments_lexer": "ipython3",
   "version": "3.12.4"
  }
 },
 "nbformat": 4,
 "nbformat_minor": 5
}
