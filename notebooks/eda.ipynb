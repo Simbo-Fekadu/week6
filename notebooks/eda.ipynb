{
 "cells": [
  {
   "cell_type": "code",
   "execution_count": null,
   "id": "e0b55da3",
   "metadata": {},
   "outputs": [],
   "source": [
    "import pandas as pd\n",
    "chunk_iter = pd.read_csv('../data/raw/complaints.csv', chunksize=10000)\n",
    "first_chunk = next(chunk_iter)"
   ]
  },
  {
   "cell_type": "code",
   "execution_count": 5,
   "id": "ff5691cd",
   "metadata": {},
   "outputs": [
    {
     "name": "stdout",
     "output_type": "stream",
     "text": [
      "  Date received                                            Product  \\\n",
      "0    2025-06-20  Credit reporting or other personal consumer re...   \n",
      "1    2025-06-20                                    Debt collection   \n",
      "2    2025-06-20  Credit reporting or other personal consumer re...   \n",
      "3    2025-06-20  Credit reporting or other personal consumer re...   \n",
      "4    2025-06-20  Credit reporting or other personal consumer re...   \n",
      "\n",
      "               Sub-product                                 Issue  \\\n",
      "0         Credit reporting  Incorrect information on your report   \n",
      "1  Telecommunications debt     Attempts to collect debt not owed   \n",
      "2         Credit reporting           Improper use of your report   \n",
      "3         Credit reporting           Improper use of your report   \n",
      "4         Credit reporting  Incorrect information on your report   \n",
      "\n",
      "                                       Sub-issue Consumer complaint narrative  \\\n",
      "0            Information belongs to someone else                          NaN   \n",
      "1                              Debt is not yours                          NaN   \n",
      "2  Reporting company used your report improperly                          NaN   \n",
      "3  Reporting company used your report improperly                          NaN   \n",
      "4                       Account status incorrect                          NaN   \n",
      "\n",
      "                             Company public response  \\\n",
      "0                                                NaN   \n",
      "1  Company can't verify or dispute the facts in t...   \n",
      "2                                                NaN   \n",
      "3                                                NaN   \n",
      "4                                                NaN   \n",
      "\n",
      "                                        Company State ZIP code Tags  \\\n",
      "0           Experian Information Solutions Inc.    FL    32092  NaN   \n",
      "1  Eastern Account Systems of Connecticut, Inc.    FL    342XX  NaN   \n",
      "2        TRANSUNION INTERMEDIATE HOLDINGS, INC.    AZ    85225  NaN   \n",
      "3           Experian Information Solutions Inc.    AZ    85225  NaN   \n",
      "4           Experian Information Solutions Inc.    IL    60628  NaN   \n",
      "\n",
      "  Consumer consent provided? Submitted via Date sent to company  \\\n",
      "0                        NaN           Web           2025-06-20   \n",
      "1                        NaN           Web           2025-06-20   \n",
      "2                        NaN           Web           2025-06-20   \n",
      "3                        NaN           Web           2025-06-20   \n",
      "4                        NaN           Web           2025-06-20   \n",
      "\n",
      "  Company response to consumer Timely response?  Consumer disputed?  \\\n",
      "0                  In progress              Yes                 NaN   \n",
      "1      Closed with explanation              Yes                 NaN   \n",
      "2                  In progress              Yes                 NaN   \n",
      "3                  In progress              Yes                 NaN   \n",
      "4                  In progress              Yes                 NaN   \n",
      "\n",
      "   Complaint ID  \n",
      "0      14195687  \n",
      "1      14195688  \n",
      "2      14195689  \n",
      "3      14195690  \n",
      "4      14195692  \n",
      "(10000, 18)\n",
      "Index(['Date received', 'Product', 'Sub-product', 'Issue', 'Sub-issue',\n",
      "       'Consumer complaint narrative', 'Company public response', 'Company',\n",
      "       'State', 'ZIP code', 'Tags', 'Consumer consent provided?',\n",
      "       'Submitted via', 'Date sent to company', 'Company response to consumer',\n",
      "       'Timely response?', 'Consumer disputed?', 'Complaint ID'],\n",
      "      dtype='object')\n"
     ]
    }
   ],
   "source": [
    "print(first_chunk.head())  \n",
    "print(first_chunk.shape)   \n",
    "print(first_chunk.columns)"
   ]
  },
  {
   "cell_type": "code",
   "execution_count": 7,
   "id": "00d0a37e",
   "metadata": {},
   "outputs": [
    {
     "name": "stdout",
     "output_type": "stream",
     "text": [
      "Product\n",
      "Credit reporting or other personal consumer reports        9608\n",
      "Debt collection                                             290\n",
      "Credit card                                                  42\n",
      "Checking or savings account                                  20\n",
      "Money transfer, virtual currency, or money service           20\n",
      "Payday loan, title loan, personal loan, or advance loan       7\n",
      "Vehicle loan or lease                                         6\n",
      "Mortgage                                                      3\n",
      "Debt or credit management                                     2\n",
      "Prepaid card                                                  1\n",
      "Student loan                                                  1\n",
      "Name: count, dtype: int64\n"
     ]
    }
   ],
   "source": [
    "product_counts = first_chunk['Product'].value_counts()\n",
    "print(product_counts)\n"
   ]
  },
  {
   "cell_type": "code",
   "execution_count": null,
   "id": "198ebf2c",
   "metadata": {},
   "outputs": [
    {
     "name": "stdout",
     "output_type": "stream",
     "text": [
      "count      2.000000\n",
      "mean     382.000000\n",
      "std       91.923882\n",
      "min      317.000000\n",
      "25%      349.500000\n",
      "50%      382.000000\n",
      "75%      414.500000\n",
      "max      447.000000\n",
      "Name: word_count, dtype: float64\n"
     ]
    }
   ],
   "source": [
    "first_chunk['word_count'] = first_chunk['Consumer complaint narrative'].str.split().str.len()\n",
    "print(first_chunk['word_count'].describe())"
   ]
  },
  {
   "cell_type": "code",
   "execution_count": 9,
   "id": "2f050804",
   "metadata": {},
   "outputs": [
    {
     "name": "stdout",
     "output_type": "stream",
     "text": [
      "9998\n"
     ]
    }
   ],
   "source": [
    "print(first_chunk['Consumer complaint narrative'].isna().sum()) "
   ]
  },
  {
   "cell_type": "code",
   "execution_count": 57,
   "id": "f68b6794",
   "metadata": {},
   "outputs": [
    {
     "name": "stderr",
     "output_type": "stream",
     "text": [
      "C:\\Users\\Simbo\\AppData\\Local\\Temp\\ipykernel_72120\\145183388.py:4: DtypeWarning: Columns (16) have mixed types. Specify dtype option on import or set low_memory=False.\n",
      "  full_data = pd.read_csv('../data/raw/complaints.csv')\n"
     ]
    },
    {
     "name": "stdout",
     "output_type": "stream",
     "text": [
      "Total usable rows: 9609791\n",
      "\n",
      "Top Products:\n",
      "Product\n",
      "Credit reporting or other personal consumer reports                             4834854\n",
      "Credit reporting, credit repair services, or other personal consumer reports    2163857\n",
      "Debt collection                                                                  799197\n",
      "Mortgage                                                                         422254\n",
      "Checking or savings account                                                      291173\n",
      "Credit card                                                                      226686\n",
      "Credit card or prepaid card                                                      206369\n",
      "Money transfer, virtual currency, or money service                               145066\n",
      "Credit reporting                                                                 140429\n",
      "Student loan                                                                     109717\n",
      "Name: count, dtype: int64\n",
      "==================================================\n",
      "Filtered rows for key products: 662925\n",
      "Total rows after adding loan-related complaints: 825338\n",
      "==================================================\n",
      "Final Product Distribution:\n",
      "Product\n",
      "Checking or savings account                                291173\n",
      "Credit card                                                226686\n",
      "Money transfer, virtual currency, or money service         145066\n",
      "Student loan                                               109717\n",
      "Payday loan, title loan, or personal loan                   30641\n",
      "Payday loan, title loan, personal loan, or advance loan     16514\n",
      "Payday loan                                                  5541\n",
      "Name: count, dtype: int64\n"
     ]
    }
   ],
   "source": [
    "import pandas as pd\n",
    "\n",
    "# Load raw data (if not already loaded)\n",
    "full_data = pd.read_csv('../data/raw/complaints.csv')\n",
    "usable_data = full_data[['Product', 'Issue']].dropna()\n",
    "\n",
    "# Print initial stats\n",
    "print(f\"Total usable rows: {len(usable_data)}\")\n",
    "print(\"\\nTop Products:\")\n",
    "print(usable_data['Product'].value_counts().head(10))\n",
    "\n",
    "print(\"=\"*50)  # Visual separator\n",
    "\n",
    "# Filter for key products\n",
    "key_products = [\n",
    "    \"Credit card\", \n",
    "    \"Checking or savings account\",\n",
    "    \"Money transfer, virtual currency, or money service\"\n",
    "]\n",
    "filtered_data = usable_data[usable_data['Product'].isin(key_products)].copy()\n",
    "print(f\"Filtered rows for key products: {len(filtered_data)}\")\n",
    "\n",
    "# Add loan-related complaints using keyword search\n",
    "loan_products = [\"Payday loan\", \"Personal loan\", \"Student loan\"]\n",
    "filtered_data = pd.concat([\n",
    "    usable_data[usable_data['Product'].isin(key_products)],\n",
    "    usable_data[usable_data['Product'].str.contains('|'.join(loan_products), case=False)]\n",
    "])\n",
    "print(f\"Total rows after adding loan-related complaints: {len(filtered_data)}\")\n",
    "\n",
    "print(\"=\"*50)\n",
    "print(\"Final Product Distribution:\")\n",
    "print(filtered_data['Product'].value_counts())"
   ]
  },
  {
   "cell_type": "code",
   "execution_count": 60,
   "id": "78e1fc81",
   "metadata": {},
   "outputs": [],
   "source": [
    "filtered_data['clean_text'] = filtered_data['Issue'].str.lower().str.replace(r'[^\\w\\s]', '', regex=True)\n",
    "filtered_data.to_csv('../data/filtered_complaints.csv', index=False)"
   ]
  }
 ],
 "metadata": {
  "kernelspec": {
   "display_name": ".venv",
   "language": "python",
   "name": "python3"
  },
  "language_info": {
   "codemirror_mode": {
    "name": "ipython",
    "version": 3
   },
   "file_extension": ".py",
   "mimetype": "text/x-python",
   "name": "python",
   "nbconvert_exporter": "python",
   "pygments_lexer": "ipython3",
   "version": "3.12.4"
  }
 },
 "nbformat": 4,
 "nbformat_minor": 5
}
