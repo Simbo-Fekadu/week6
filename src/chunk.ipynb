{
 "cells": [
  {
   "cell_type": "code",
   "execution_count": 2,
   "id": "3abacc86",
   "metadata": {},
   "outputs": [
    {
     "name": "stdout",
     "output_type": "stream",
     "text": [
      "Created 825338 chunks\n"
     ]
    }
   ],
   "source": [
    "from langchain.text_splitter import RecursiveCharacterTextSplitter\n",
    "import pandas as pd\n",
    "\n",
    "# Load data\n",
    "data = pd.read_csv('../data/filtered_complaints.csv')\n",
    "\n",
    "# Split into chunks\n",
    "splitter = RecursiveCharacterTextSplitter(\n",
    "    chunk_size=300,\n",
    "    chunk_overlap=50\n",
    ")\n",
    "chunks = splitter.create_documents(data['clean_text'].tolist())  # Define chunks here\n",
    "print(f\"Created {len(chunks)} chunks\")"
   ]
  },
  {
   "cell_type": "code",
   "execution_count": 5,
   "id": "ecd3fd9e",
   "metadata": {},
   "outputs": [
    {
     "name": "stdout",
     "output_type": "stream",
     "text": [
      "Note: you may need to restart the kernel to use updated packages.\n"
     ]
    },
    {
     "name": "stderr",
     "output_type": "stream",
     "text": [
      "c:\\Users\\Simbo\\Desktop\\week6\\.venv\\Lib\\site-packages\\tqdm\\auto.py:21: TqdmWarning: IProgress not found. Please update jupyter and ipywidgets. See https://ipywidgets.readthedocs.io/en/stable/user_install.html\n",
      "  from .autonotebook import tqdm as notebook_tqdm\n",
      "Batches: 100%|██████████| 25792/25792 [34:30<00:00, 12.46it/s]  \n"
     ]
    },
    {
     "name": "stdout",
     "output_type": "stream",
     "text": [
      "Embeddings shape: (825338, 384)\n"
     ]
    }
   ],
   "source": [
    "\n",
    "%pip install -q sentence-transformers\n",
    "from sentence_transformers import SentenceTransformer\n",
    "\n",
    "# Initialize embedding model\n",
    "embedder = SentenceTransformer('all-MiniLM-L6-v2')  # Lightweight but effective\n",
    "\n",
    "# Embed chunks\n",
    "chunk_texts = [chunk.page_content for chunk in chunks]\n",
    "embeddings = embedder.encode(chunk_texts, show_progress_bar=True)\n",
    "\n",
    "print(f\"Embeddings shape: {embeddings.shape}\")  # (num_chunks, 384)\n"
   ]
  },
  {
   "cell_type": "code",
   "execution_count": 6,
   "id": "3fd8bcdf",
   "metadata": {},
   "outputs": [
    {
     "name": "stdout",
     "output_type": "stream",
     "text": [
      "Created fresh directory at ../vector_store\n",
      "Initializing Chroma client with path: c:\\Users\\Simbo\\Desktop\\week6\\week6\\vector_store\n",
      "Successfully created or retrieved 'complaints' collection\n"
     ]
    },
    {
     "name": "stderr",
     "output_type": "stream",
     "text": [
      "100%|██████████| 825338/825338 [27:01<00:00, 509.13it/s] "
     ]
    },
    {
     "name": "stdout",
     "output_type": "stream",
     "text": [
      "✅ Completed 826 batches. Vector store ready!\n"
     ]
    },
    {
     "name": "stderr",
     "output_type": "stream",
     "text": [
      "\n"
     ]
    }
   ],
   "source": [
    "import chromadb\n",
    "import numpy as np\n",
    "from tqdm import tqdm\n",
    "import shutil\n",
    "import time\n",
    "import os\n",
    "import gc\n",
    "\n",
    "# Verify variables exist\n",
    "assert all(var in globals() for var in ['chunks', 'embeddings']), \"Run Cells 1 & 2 first!\"\n",
    "\n",
    "# --- 1. Enhanced Nuclear Reset Option ---\n",
    "def reset_chroma_store():\n",
    "    \"\"\"Completely wipe and recreate the vector store with thorough cleanup\"\"\"\n",
    "    try:\n",
    "        # Step 1: Close and delete all existing Chroma clients\n",
    "        if 'client' in globals():\n",
    "            try:\n",
    "                client.reset()  # Reset the client\n",
    "                del globals()['client']  # Remove from globals\n",
    "            except Exception as e:\n",
    "                print(f\"Error closing client: {e}\")\n",
    "        \n",
    "        # Step 2: Force garbage collection to release memory\n",
    "        gc.collect()\n",
    "\n",
    "        # Step 3: Kill ChromaDB server processes (Windows-specific)\n",
    "        os.system(\"taskkill /f /im chromadb-server.exe 2> nul\")\n",
    "        time.sleep(5)  # Increased wait time for process termination\n",
    "\n",
    "        # Step 4: Remove directory with retries\n",
    "        store_path = \"../vector_store\"\n",
    "        if os.path.exists(store_path):\n",
    "            for attempt in range(5):\n",
    "                try:\n",
    "                    shutil.rmtree(store_path)\n",
    "                    print(f\"Successfully removed {store_path}\")\n",
    "                    break\n",
    "                except PermissionError as pe:\n",
    "                    print(f\"PermissionError on attempt {attempt + 1}: {pe}. Retrying...\")\n",
    "                    time.sleep(3)\n",
    "                except Exception as e:\n",
    "                    print(f\"Error removing directory on attempt {attempt + 1}: {e}\")\n",
    "                    time.sleep(3)\n",
    "            else:\n",
    "                raise Exception(f\"Failed to remove {store_path} after 5 attempts\")\n",
    "\n",
    "        # Step 5: Create fresh directory\n",
    "        os.makedirs(store_path, exist_ok=True)\n",
    "        print(f\"Created fresh directory at {store_path}\")\n",
    "\n",
    "    except Exception as e:\n",
    "        print(f\"Reset error: {e}\")\n",
    "        raise\n",
    "\n",
    "# --- 2. Force Fresh Start ---\n",
    "try:\n",
    "    reset_chroma_store()\n",
    "except Exception as e:\n",
    "    print(f\"Reset failed: {e}\")\n",
    "    raise\n",
    "\n",
    "# --- 3. Initialize with Clean Settings ---\n",
    "try:\n",
    "    # Use absolute path to avoid relative path issues\n",
    "    store_path = os.path.abspath(\"../vector_store\")\n",
    "    print(f\"Initializing Chroma client with path: {store_path}\")\n",
    "    \n",
    "    client = chromadb.PersistentClient(\n",
    "        path=store_path,\n",
    "        settings=chromadb.Settings(\n",
    "            allow_reset=True,\n",
    "            is_persistent=True,\n",
    "            persist_directory=store_path,\n",
    "            anonymized_telemetry=False  # Explicitly disable telemetry to avoid settings mismatch\n",
    "        )\n",
    "    )\n",
    "except Exception as e:\n",
    "    print(f\"Client initialization failed: {e}\")\n",
    "    print(\"Attempting reset and retry...\")\n",
    "    reset_chroma_store()\n",
    "    client = chromadb.PersistentClient(\n",
    "        path=store_path,\n",
    "        settings=chromadb.Settings(\n",
    "            allow_reset=True,\n",
    "            is_persistent=True,\n",
    "            persist_directory=store_path,\n",
    "            anonymized_telemetry=False\n",
    "        )\n",
    "    )\n",
    "\n",
    "# --- 4. Create Collection ---\n",
    "try:\n",
    "    # Explicitly delete any existing collection\n",
    "    try:\n",
    "        client.delete_collection(\"complaints\")\n",
    "        print(\"Deleted existing 'complaints' collection\")\n",
    "    except:\n",
    "        pass\n",
    "\n",
    "    collection = client.get_or_create_collection(\n",
    "        name=\"complaints\",\n",
    "        metadata={\"hnsw:space\": \"cosine\"}\n",
    "    )\n",
    "    print(\"Successfully created or retrieved 'complaints' collection\")\n",
    "except Exception as e:\n",
    "    print(f\"Collection creation failed: {e}\")\n",
    "    reset_chroma_store()\n",
    "    collection = client.create_collection(\n",
    "        name=\"complaints\",\n",
    "        metadata={\"hnsw:space\": \"cosine\"}\n",
    "    )\n",
    "\n",
    "# --- 5. Batch Insert with Error Handling ---\n",
    "batch_size = 1000  # Reduced for stability\n",
    "successful_batches = 0\n",
    "\n",
    "with tqdm(total=len(chunks)) as pbar:\n",
    "    for i in range(0, len(chunks), batch_size):\n",
    "        try:\n",
    "            batch_ids = [str(j) for j in range(i, min(i + batch_size, len(chunks)))]\n",
    "            batch_texts = [chunks[j].page_content for j in range(i, min(i + batch_size, len(chunks)))]\n",
    "            batch_embeddings = embeddings[i:i + batch_size].tolist()\n",
    "            \n",
    "            collection.add(\n",
    "                ids=batch_ids,\n",
    "                documents=batch_texts,\n",
    "                embeddings=batch_embeddings\n",
    "            )\n",
    "            successful_batches += 1\n",
    "            pbar.update(len(batch_ids))\n",
    "        except Exception as e:\n",
    "            print(f\"\\nBatch {i//batch_size} failed: {str(e)[:200]}...\")\n",
    "            time.sleep(5)\n",
    "            continue\n",
    "\n",
    "print(f\"✅ Completed {successful_batches} batches. Vector store ready!\")"
   ]
  }
 ],
 "metadata": {
  "kernelspec": {
   "display_name": ".venv",
   "language": "python",
   "name": "python3"
  },
  "language_info": {
   "codemirror_mode": {
    "name": "ipython",
    "version": 3
   },
   "file_extension": ".py",
   "mimetype": "text/x-python",
   "name": "python",
   "nbconvert_exporter": "python",
   "pygments_lexer": "ipython3",
   "version": "3.12.4"
  }
 },
 "nbformat": 4,
 "nbformat_minor": 5
}
